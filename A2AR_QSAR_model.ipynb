{
 "cells": [
  {
   "cell_type": "code",
   "execution_count": 3,
   "metadata": {},
   "outputs": [],
   "source": [
    "import pandas as pd\n",
    "\n",
    "from rdkit.Chem.Draw import IPythonConsole\n",
    "from rdkit.Chem import PandasTools\n",
    "from rdkit.Chem import AllChem as Chem\n",
    "from rdkit.Chem import DataStructs, Descriptors\n",
    "\n",
    "import numpy as np\n",
    "from sklearn.model_selection import train_test_split, cross_val_score, GridSearchCV, StratifiedKFold\n",
    "from sklearn.ensemble import RandomForestClassifier\n",
    "from sklearn.metrics import mean_squared_error\n",
    "from sklearn.metrics import accuracy_score, cohen_kappa_score, matthews_corrcoef, make_scorer\n",
    "\n",
    "import os\n",
    "from rdkit.Chem import PandasTools\n",
    "seed = 19111"
   ]
  },
  {
   "cell_type": "code",
   "execution_count": 9,
   "metadata": {},
   "outputs": [],
   "source": [
    "from multiprocessing import Pool\n",
    "from sklearn.metrics import accuracy_score, cohen_kappa_score, matthews_corrcoef, make_scorer, confusion_matrix"
   ]
  },
  {
   "cell_type": "code",
   "execution_count": 11,
   "metadata": {},
   "outputs": [],
   "source": [
    "NUM_PROC = os.cpu_count() // 1"
   ]
  },
  {
   "cell_type": "code",
   "execution_count": 1,
   "metadata": {},
   "outputs": [],
   "source": [
    "data_dir = '/home/Development/GAN_testing/A2AR'\n",
    "all_data = 'A2AR.csv'"
   ]
  },
  {
   "cell_type": "code",
   "execution_count": 4,
   "metadata": {},
   "outputs": [],
   "source": [
    "data = pd.read_csv(os.path.join(data_dir, all_data))"
   ]
  },
  {
   "cell_type": "code",
   "execution_count": 5,
   "metadata": {},
   "outputs": [
    {
     "data": {
      "text/html": [
       "<div>\n",
       "<style scoped>\n",
       "    .dataframe tbody tr th:only-of-type {\n",
       "        vertical-align: middle;\n",
       "    }\n",
       "\n",
       "    .dataframe tbody tr th {\n",
       "        vertical-align: top;\n",
       "    }\n",
       "\n",
       "    .dataframe thead th {\n",
       "        text-align: right;\n",
       "    }\n",
       "</style>\n",
       "<table border=\"1\" class=\"dataframe\">\n",
       "  <thead>\n",
       "    <tr style=\"text-align: right;\">\n",
       "      <th></th>\n",
       "      <th>SMILES</th>\n",
       "      <th>label</th>\n",
       "      <th>CMPD_CHEMBLID</th>\n",
       "    </tr>\n",
       "  </thead>\n",
       "  <tbody>\n",
       "    <tr>\n",
       "      <th>0</th>\n",
       "      <td>Brc1c(NC2=NCCN2)ccc2nccnc12</td>\n",
       "      <td>0</td>\n",
       "      <td>CHEMBL844</td>\n",
       "    </tr>\n",
       "    <tr>\n",
       "      <th>1</th>\n",
       "      <td>Brc1cccc(Nc2nc3c(N4CCCC4)ncnc3s2)c1</td>\n",
       "      <td>1</td>\n",
       "      <td>CHEMBL3827889</td>\n",
       "    </tr>\n",
       "    <tr>\n",
       "      <th>2</th>\n",
       "      <td>Brc1ccccc1</td>\n",
       "      <td>0</td>\n",
       "      <td>CHEMBL16068</td>\n",
       "    </tr>\n",
       "    <tr>\n",
       "      <th>3</th>\n",
       "      <td>C#CC1(O)CCC2C3C(C)CC4=C(CCC(=O)C4)C3CCC21C</td>\n",
       "      <td>0</td>\n",
       "      <td>CHEMBL2103774</td>\n",
       "    </tr>\n",
       "    <tr>\n",
       "      <th>4</th>\n",
       "      <td>C#CC1(O)CCC2C3CCC4=CC(=O)CCC4(C)C3CCC21C</td>\n",
       "      <td>0</td>\n",
       "      <td>CHEMBL241694</td>\n",
       "    </tr>\n",
       "  </tbody>\n",
       "</table>\n",
       "</div>"
      ],
      "text/plain": [
       "                                       SMILES  label  CMPD_CHEMBLID\n",
       "0                 Brc1c(NC2=NCCN2)ccc2nccnc12      0      CHEMBL844\n",
       "1         Brc1cccc(Nc2nc3c(N4CCCC4)ncnc3s2)c1      1  CHEMBL3827889\n",
       "2                                  Brc1ccccc1      0    CHEMBL16068\n",
       "3  C#CC1(O)CCC2C3C(C)CC4=C(CCC(=O)C4)C3CCC21C      0  CHEMBL2103774\n",
       "4    C#CC1(O)CCC2C3CCC4=CC(=O)CCC4(C)C3CCC21C      0   CHEMBL241694"
      ]
     },
     "execution_count": 5,
     "metadata": {},
     "output_type": "execute_result"
    }
   ],
   "source": [
    "data.head()"
   ]
  },
  {
   "cell_type": "code",
   "execution_count": 6,
   "metadata": {},
   "outputs": [],
   "source": [
    "def morganfp(smi, bits=4096, radius=3):\n",
    "    mol = Chem.MolFromSmiles(smi)\n",
    "    if mol is None: return\n",
    "    vec = np.ndarray((1, bits), dtype=int)\n",
    "    fp = Chem.GetMorganFingerprintAsBitVect(mol, radius, nBits=bits)\n",
    "    DataStructs.ConvertToNumpyArray(fp, vec)\n",
    "    return vec"
   ]
  },
  {
   "cell_type": "code",
   "execution_count": 7,
   "metadata": {},
   "outputs": [],
   "source": [
    "def qsar_model(df):\n",
    "    print(df.shape)\n",
    "    cv = StratifiedKFold(n_splits=5, random_state=seed)\n",
    "    y = df.label.values\n",
    "    with Pool(NUM_PROC) as p:\n",
    "        X = np.array(p.map(morganfp, df.SMILES.values))\n",
    "    param_grid = {\"max_features\": [int(np.sqrt(X.shape[1])), \n",
    "                               X.shape[1] // 3], \n",
    "              \"n_estimators\": [1000],             \n",
    "             }\n",
    "    clf = GridSearchCV(RandomForestClassifier(random_state=seed), \n",
    "                  param_grid, n_jobs=-1, cv=cv, verbose=1)\n",
    "    clf.fit(X, y)\n",
    "    print(clf.best_score_)\n",
    "    return clf"
   ]
  },
  {
   "cell_type": "code",
   "execution_count": 12,
   "metadata": {},
   "outputs": [
    {
     "name": "stdout",
     "output_type": "stream",
     "text": [
      "(4661, 3)\n",
      "Fitting 5 folds for each of 2 candidates, totalling 10 fits\n"
     ]
    },
    {
     "name": "stderr",
     "output_type": "stream",
     "text": [
      "[Parallel(n_jobs=-1)]: Using backend LokyBackend with 8 concurrent workers.\n",
      "[Parallel(n_jobs=-1)]: Done   6 out of  10 | elapsed: 15.3min remaining: 10.2min\n",
      "[Parallel(n_jobs=-1)]: Done  10 out of  10 | elapsed: 16.6min finished\n"
     ]
    },
    {
     "name": "stdout",
     "output_type": "stream",
     "text": [
      "0.792748337267\n"
     ]
    }
   ],
   "source": [
    "model = qsar_model(data)"
   ]
  },
  {
   "cell_type": "markdown",
   "metadata": {},
   "source": [
    "### Save model"
   ]
  },
  {
   "cell_type": "code",
   "execution_count": 13,
   "metadata": {},
   "outputs": [
    {
     "name": "stdout",
     "output_type": "stream",
     "text": [
      "0.20.1\n"
     ]
    }
   ],
   "source": [
    "import sklearn\n",
    "from sklearn.externals import joblib\n",
    "print(sklearn.__version__)"
   ]
  },
  {
   "cell_type": "code",
   "execution_count": 14,
   "metadata": {},
   "outputs": [
    {
     "data": {
      "text/plain": [
       "['/home/Development/GAN_testing/A2AR/A2AR.jbl']"
      ]
     },
     "execution_count": 14,
     "metadata": {},
     "output_type": "execute_result"
    }
   ],
   "source": [
    "rf = model.best_estimator_\n",
    "file = os.path.join(data_dir, 'A2AR.jbl')\n",
    "joblib.dump(model, file)"
   ]
  },
  {
   "cell_type": "code",
   "execution_count": null,
   "metadata": {},
   "outputs": [],
   "source": []
  }
 ],
 "metadata": {
  "kernelspec": {
   "display_name": "Python 3",
   "language": "python",
   "name": "python3"
  },
  "language_info": {
   "codemirror_mode": {
    "name": "ipython",
    "version": 3
   },
   "file_extension": ".py",
   "mimetype": "text/x-python",
   "name": "python",
   "nbconvert_exporter": "python",
   "pygments_lexer": "ipython3",
   "version": "3.7.7"
  }
 },
 "nbformat": 4,
 "nbformat_minor": 2
}
